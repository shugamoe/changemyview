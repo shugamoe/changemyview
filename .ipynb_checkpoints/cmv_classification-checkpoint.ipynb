{
 "cells": [
  {
   "cell_type": "code",
   "execution_count": 1,
   "metadata": {
    "collapsed": false
   },
   "outputs": [
    {
     "name": "stderr",
     "output_type": "stream",
     "text": [
      "/Library/Frameworks/Python.framework/Versions/3.5/lib/python3.5/site-packages/sklearn/cross_validation.py:44: DeprecationWarning: This module was deprecated in version 0.18 in favor of the model_selection module into which all the refactored classes and functions are moved. Also note that the interface of the new CV iterators are different from that of this module. This module will be removed in 0.20.\n",
      "  \"This module will be removed in 0.20.\", DeprecationWarning)\n"
     ]
    }
   ],
   "source": [
    "#All these packages need to be installed from pip\n",
    "#For ML\n",
    "import sklearn\n",
    "import sklearn.feature_extraction.text\n",
    "import sklearn.decomposition\n",
    "from sklearn import preprocessing, linear_model\n",
    "from sklearn.metrics import confusion_matrix, accuracy_score, precision_score, recall_score\n",
    "from sklearn.datasets import fetch_20newsgroups, make_blobs\n",
    "from sklearn.feature_extraction.text import TfidfVectorizer  #Feature extraction\n",
    "from sklearn.naive_bayes import MultinomialNB #Our learner.\n",
    "from sklearn.pipeline import make_pipeline\n",
    "from sklearn.cross_validation import train_test_split\n",
    "from sklearn.tree import DecisionTreeRegressor, DecisionTreeClassifier\n",
    "from sklearn.ensemble import BaggingClassifier, RandomForestRegressor, ExtraTreesClassifier\n",
    "from sklearn.neural_network import MLPClassifier\n",
    "from sklearn import neighbors\n",
    "from sklearn.feature_selection import SelectKBest, mutual_info_classif, f_classif, SelectFromModel\n",
    "import pandas as pd\n",
    "\n",
    "import nltk #For tokenizing and normalizing\n",
    "import numpy as np #arrays\n",
    "import matplotlib.pyplot as plt #Plots\n",
    "from matplotlib.colors import ListedColormap\n",
    "import seaborn #Makes plots look nice, also heatmaps\n",
    "import scipy as sp #for interp\n",
    "\n",
    "%matplotlib inline\n",
    "\n",
    "#These are from the standard library\n",
    "import collections\n",
    "import os\n",
    "import os.path\n",
    "import random\n",
    "import re\n",
    "import glob\n",
    "import pandas\n",
    "import requests\n",
    "import json\n",
    "import math"
   ]
  },
  {
   "cell_type": "code",
   "execution_count": 2,
   "metadata": {
    "collapsed": false
   },
   "outputs": [
    {
     "name": "stderr",
     "output_type": "stream",
     "text": [
      "/Library/Frameworks/Python.framework/Versions/3.5/lib/python3.5/site-packages/ipykernel/__main__.py:5: SettingWithCopyWarning: \n",
      "A value is trying to be set on a copy of a slice from a DataFrame.\n",
      "Try using .loc[row_indexer,col_indexer] = value instead\n",
      "\n",
      "See the caveats in the documentation: http://pandas.pydata.org/pandas-docs/stable/indexing.html#indexing-view-versus-copy\n",
      "/Library/Frameworks/Python.framework/Versions/3.5/lib/python3.5/site-packages/ipykernel/__main__.py:6: SettingWithCopyWarning: \n",
      "A value is trying to be set on a copy of a slice from a DataFrame.\n",
      "Try using .loc[row_indexer,col_indexer] = value instead\n",
      "\n",
      "See the caveats in the documentation: http://pandas.pydata.org/pandas-docs/stable/indexing.html#indexing-view-versus-copy\n"
     ]
    }
   ],
   "source": [
    "df = pandas.read_pickle('cmv_full_features.pkl')\n",
    "df = df.sample(frac = .1)\n",
    "#splitting data\n",
    "data_train, data_test = train_test_split(df, test_size=0.3, random_state=123)\n",
    "data_train['is_train'] = True\n",
    "data_test['is_train'] = False"
   ]
  },
  {
   "cell_type": "code",
   "execution_count": 3,
   "metadata": {
    "collapsed": false,
    "scrolled": true
   },
   "outputs": [
    {
     "data": {
      "text/plain": [
       "(2685, 20050)"
      ]
     },
     "execution_count": 3,
     "metadata": {},
     "output_type": "execute_result"
    }
   ],
   "source": [
    "#turn the training dataset into a tf-idf matrix\n",
    "TFVectorizer = sklearn.feature_extraction.text.TfidfVectorizer(max_df=100, min_df=2, ngram_range=(1, 10),stop_words='english', norm='l2')\n",
    "TFVects = TFVectorizer.fit_transform(data_train['com_text'])\n",
    "TFVects.shape #(3836, 32241)\n",
    "#print(TFVects.shape"
   ]
  },
  {
   "cell_type": "code",
   "execution_count": 4,
   "metadata": {
    "collapsed": true
   },
   "outputs": [],
   "source": [
    "#combining tfidf features with liguistic features and clustering labels\n",
    "tfdf = pd.DataFrame(TFVects.toarray())\n",
    "features_train = pd.concat([tfdf, data_train.reset_index()[['index', 'com_upvotes', 'KL', 'JS', 'kmeans', 'com_avg_pt_depth']]], axis = 1, ignore_index = False)\n",
    "features_train.set_index('index', inplace = True)"
   ]
  },
  {
   "cell_type": "code",
   "execution_count": 23,
   "metadata": {
    "collapsed": true
   },
   "outputs": [],
   "source": [
    "#turn the test dataset into a tf-idf\n",
    "TFVects_test = TFVectorizer.transform(data_test['com_text'])\n",
    "tfdf_test = pd.DataFrame(TFVects_test.toarray())\n",
    "features_test = pd.concat([tfdf_test, data_test.reset_index()[['index', 'com_upvotes', 'KL', 'JS', 'kmeans', 'com_avg_pt_depth']]], axis = 1, ignore_index = False)\n",
    "features_test.set_index('index', inplace = True)"
   ]
  },
  {
   "cell_type": "code",
   "execution_count": 22,
   "metadata": {
    "collapsed": true
   },
   "outputs": [],
   "source": [
    "X = features_train\n",
    "y = data_train['com_delta_received'].as_matrix()"
   ]
  },
  {
   "cell_type": "markdown",
   "metadata": {},
   "source": [
    "# Idea 1: try classification for all posts"
   ]
  },
  {
   "cell_type": "markdown",
   "metadata": {},
   "source": [
    "## Logistic regression"
   ]
  },
  {
   "cell_type": "code",
   "execution_count": null,
   "metadata": {
    "collapsed": false
   },
   "outputs": [],
   "source": []
  },
  {
   "cell_type": "code",
   "execution_count": null,
   "metadata": {
    "collapsed": false
   },
   "outputs": [],
   "source": [
    "#combining tfidf features with liguistic features and clustering labels\n",
    "tfdf = pd.DataFrame(TFVects.toarray())\n",
    "features_train = pd.concat([tfdf, data_train.reset_index()[['index', 'com_upvotes', 'KL', 'JS', 'kmeans', 'com_avg_pt_depth']]], axis = 1, ignore_index = False)\n",
    "features_train.set_index('index', inplace = True)\n"
   ]
  },
  {
   "cell_type": "code",
   "execution_count": null,
   "metadata": {
    "collapsed": true
   },
   "outputs": [],
   "source": [
    "#Perform PCA on this matrix to pick significant features\n",
    "#perform pca\n",
    "PCA = sklearn.decomposition.PCA\n",
    "pca = PCA().fit(features_train)\n",
    "reduced_data = pca.transform(features_train)"
   ]
  },
  {
   "cell_type": "code",
   "execution_count": null,
   "metadata": {
    "collapsed": false
   },
   "outputs": [],
   "source": [
    "#use scree plot to determine the number of dimensions\n",
    "n = TFVects.shape[0]\n",
    "fig = plt.figure(figsize=(12,5))\n",
    "ax1 = fig.add_subplot(121)\n",
    "eigen_vals = np.arange(n) + 1\n",
    "ax1.plot(eigen_vals, pca.explained_variance_ratio_, 'ro-', linewidth=2)\n",
    "ax1.set_title('Scree Plot')\n",
    "ax1.set_xlabel('Principal Component')\n",
    "ax1.set_ylabel('Proportion of Explained Variance')\n",
    "\n",
    "ax2 = fig.add_subplot(122)\n",
    "eigen_vals = np.arange(10) + 1\n",
    "ax2.plot(eigen_vals, pca.explained_variance_ratio_[:10], 'ro-', linewidth=2)\n",
    "ax2.set_title('Scree Plot (First 20 Principal Components)')\n",
    "ax2.set_xlabel('Principal Component')\n",
    "ax2.set_ylabel('Proportion of Explained Variance')\n",
    "plt.show()"
   ]
  },
  {
   "cell_type": "code",
   "execution_count": null,
   "metadata": {
    "collapsed": false
   },
   "outputs": [],
   "source": [
    "#predicting with first ten\n",
    "X = reduced_data[:, :2]\n",
    "Y = np.array([int(label) for label in data_train['com_delta_received']]) #Transform our predictor variable. \n",
    "              \n",
    "#fitting logistic regresion\n",
    "logistic = linear_model.LogisticRegression()\n",
    "logistic.fit(X, Y)\n",
    "print(\"This logistic model using top two components fits {} of our training set\".format(logistic.score(X,Y)))\n"
   ]
  },
  {
   "cell_type": "code",
   "execution_count": null,
   "metadata": {
    "collapsed": false
   },
   "outputs": [],
   "source": [
    "#turn the test dataset into a tf-idf\n",
    "TFVects_test = TFVectorizer.transform(data_test['com_text'])\n",
    "tfdf_test = pd.DataFrame(TFVects_test.toarray())\n",
    "features_test = pd.concat([tfdf_test, data_test.reset_index()[['index', 'com_upvotes', 'KL', 'JS', 'kmeans', 'com_avg_pt_depth']]], axis = 1, ignore_index = False)\n",
    "features_test.set_index('index', inplace = True)\n",
    "reduced_data_test = pca.transform(features_test)"
   ]
  },
  {
   "cell_type": "code",
   "execution_count": null,
   "metadata": {
    "collapsed": false
   },
   "outputs": [],
   "source": [
    "X_test = reduced_data_test[:, :2]\n",
    "Y_test = np.array([int(label) for label in data_test['com_delta_received']])\n",
    "print(\"This logistic model using top ten components fits {} of our testing set\".format(logistic.score(X_test, Y_test)))"
   ]
  },
  {
   "cell_type": "code",
   "execution_count": null,
   "metadata": {
    "collapsed": false
   },
   "outputs": [],
   "source": [
    "#Evaluation stats\n",
    "print(\"Precision:\", sklearn.metrics.precision_score(Y, logistic.predict(X), average = 'weighted')) #precision\n",
    "print(\"Recall:\",sklearn.metrics.recall_score(Y, logistic.predict(X), average = 'weighted')) #recall\n",
    "print(\"F-measure:\",sklearn.metrics.f1_score(Y, logistic.predict(X), average = 'weighted')) #F-1 measure"
   ]
  },
  {
   "cell_type": "code",
   "execution_count": null,
   "metadata": {
    "collapsed": false
   },
   "outputs": [],
   "source": [
    "#ROC curve\n",
    "x, y, _ = sklearn.metrics.roc_curve(Y, logistic.predict_proba(X)[:,1])\n",
    "roc_auc = sklearn.metrics.auc(x,y)\n",
    "\n",
    "plt.figure()\n",
    "plt.plot(x,y, color = 'darkorange', lw = 2, label='ROC curve (area = %0.2f)' % roc_auc)\n",
    "plt.plot([0, 1], [0, 1], color='navy', lw=2, linestyle='--')\n",
    "plt.xlim([0.0, 1.0])\n",
    "plt.ylim([0.0, 1.05])\n",
    "plt.xlabel('False Positive Rate')\n",
    "plt.ylabel('True Positive Rate')\n",
    "plt.title('Receiver operating characteristic curve')\n",
    "plt.legend(loc=\"lower right\")\n",
    "plt.show()"
   ]
  },
  {
   "cell_type": "code",
   "execution_count": null,
   "metadata": {
    "collapsed": true
   },
   "outputs": [],
   "source": [
    "#Problem: we lost track of the feature names after PCA"
   ]
  },
  {
   "cell_type": "code",
   "execution_count": null,
   "metadata": {
    "collapsed": true
   },
   "outputs": [],
   "source": []
  },
  {
   "cell_type": "code",
   "execution_count": null,
   "metadata": {
    "collapsed": false
   },
   "outputs": [],
   "source": []
  },
  {
   "cell_type": "markdown",
   "metadata": {
    "collapsed": true
   },
   "source": [
    "## Binary Naive Bayes"
   ]
  },
  {
   "cell_type": "code",
   "execution_count": null,
   "metadata": {
    "collapsed": true
   },
   "outputs": [],
   "source": []
  },
  {
   "cell_type": "markdown",
   "metadata": {},
   "source": [
    "## Decision tree"
   ]
  },
  {
   "cell_type": "code",
   "execution_count": null,
   "metadata": {
    "collapsed": true
   },
   "outputs": [],
   "source": [
    "tree = DecisionTreeClassifier(max_depth=4,random_state=0).fit(reduced_data, data_train['com_delta_received'])"
   ]
  },
  {
   "cell_type": "code",
   "execution_count": null,
   "metadata": {
    "collapsed": true
   },
   "outputs": [],
   "source": [
    "labels = tree.predict(reduced_data_test)"
   ]
  },
  {
   "cell_type": "code",
   "execution_count": null,
   "metadata": {
    "collapsed": false
   },
   "outputs": [],
   "source": [
    "mat = confusion_matrix(data_test['com_delta_received'], labels)\n",
    "seaborn.heatmap(mat.T, square=True, annot=True, fmt='d', cbar=False,\n",
    "                xticklabels=['delta_not_received', 'delta_received'], yticklabels=['delta_not_received', 'delta_received'])\n",
    "plt.xlabel('true label')\n",
    "plt.ylabel('predicted label');"
   ]
  },
  {
   "cell_type": "code",
   "execution_count": null,
   "metadata": {
    "collapsed": false
   },
   "outputs": [],
   "source": [
    "print('Precision: {}'.format(sklearn.metrics.precision_score(data_test['com_delta_received'], labels, average = 'weighted'))) \n",
    "print('Recall: {}'.format(sklearn.metrics.recall_score(data_test['com_delta_received'], labels, average = 'weighted'))) \n",
    "print('F1 Score: {}'.format(sklearn.metrics.f1_score(data_test['com_delta_received'], labels, average = 'weighted'))) \n",
    "\n",
    "labels = [1 if dr else 0 for dr in labels]\n",
    "probs = tree.predict_proba(reduced_data_test)\n",
    "print('AUC Score: {}'.format(sklearn.metrics.roc_auc_score(data_test['com_delta_received'], probs[:,1])))\n",
    "\n"
   ]
  },
  {
   "cell_type": "code",
   "execution_count": null,
   "metadata": {
    "collapsed": true
   },
   "outputs": [],
   "source": []
  },
  {
   "cell_type": "markdown",
   "metadata": {},
   "source": [
    "## Neural Nets - multi-layer perceptron"
   ]
  },
  {
   "cell_type": "code",
   "execution_count": 24,
   "metadata": {
    "collapsed": false
   },
   "outputs": [
    {
     "ename": "ValueError",
     "evalue": "shapes (1,1) and (20055,100) not aligned: 1 (dim 1) != 20055 (dim 0)",
     "output_type": "error",
     "traceback": [
      "\u001b[0;31m---------------------------------------------------------------------------\u001b[0m",
      "\u001b[0;31mValueError\u001b[0m                                Traceback (most recent call last)",
      "\u001b[0;32m<ipython-input-24-4ebe0ee26b2d>\u001b[0m in \u001b[0;36m<module>\u001b[0;34m()\u001b[0m\n\u001b[1;32m      5\u001b[0m \u001b[0mmlp_clf\u001b[0m\u001b[0;34m.\u001b[0m\u001b[0mfit\u001b[0m\u001b[0;34m(\u001b[0m\u001b[0mX\u001b[0m\u001b[0;34m,\u001b[0m \u001b[0my\u001b[0m\u001b[0;34m)\u001b[0m\u001b[0;34m\u001b[0m\u001b[0m\n\u001b[1;32m      6\u001b[0m \u001b[0;34m\u001b[0m\u001b[0m\n\u001b[0;32m----> 7\u001b[0;31m \u001b[0mmlp_labels\u001b[0m \u001b[0;34m=\u001b[0m \u001b[0;34m[\u001b[0m\u001b[0mmlp_clf\u001b[0m\u001b[0;34m.\u001b[0m\u001b[0mpredict\u001b[0m\u001b[0;34m(\u001b[0m\u001b[0mv\u001b[0m\u001b[0;34m)\u001b[0m\u001b[0;34m[\u001b[0m\u001b[0;36m0\u001b[0m\u001b[0;34m]\u001b[0m \u001b[0;32mfor\u001b[0m \u001b[0mv\u001b[0m \u001b[0;32min\u001b[0m \u001b[0mfeatures_test\u001b[0m\u001b[0;34m]\u001b[0m\u001b[0;34m\u001b[0m\u001b[0m\n\u001b[0m",
      "\u001b[0;32m<ipython-input-24-4ebe0ee26b2d>\u001b[0m in \u001b[0;36m<listcomp>\u001b[0;34m(.0)\u001b[0m\n\u001b[1;32m      5\u001b[0m \u001b[0mmlp_clf\u001b[0m\u001b[0;34m.\u001b[0m\u001b[0mfit\u001b[0m\u001b[0;34m(\u001b[0m\u001b[0mX\u001b[0m\u001b[0;34m,\u001b[0m \u001b[0my\u001b[0m\u001b[0;34m)\u001b[0m\u001b[0;34m\u001b[0m\u001b[0m\n\u001b[1;32m      6\u001b[0m \u001b[0;34m\u001b[0m\u001b[0m\n\u001b[0;32m----> 7\u001b[0;31m \u001b[0mmlp_labels\u001b[0m \u001b[0;34m=\u001b[0m \u001b[0;34m[\u001b[0m\u001b[0mmlp_clf\u001b[0m\u001b[0;34m.\u001b[0m\u001b[0mpredict\u001b[0m\u001b[0;34m(\u001b[0m\u001b[0mv\u001b[0m\u001b[0;34m)\u001b[0m\u001b[0;34m[\u001b[0m\u001b[0;36m0\u001b[0m\u001b[0;34m]\u001b[0m \u001b[0;32mfor\u001b[0m \u001b[0mv\u001b[0m \u001b[0;32min\u001b[0m \u001b[0mfeatures_test\u001b[0m\u001b[0;34m]\u001b[0m\u001b[0;34m\u001b[0m\u001b[0m\n\u001b[0m",
      "\u001b[0;32m/Library/Frameworks/Python.framework/Versions/3.5/lib/python3.5/site-packages/sklearn/neural_network/multilayer_perceptron.py\u001b[0m in \u001b[0;36mpredict\u001b[0;34m(self, X)\u001b[0m\n\u001b[1;32m    932\u001b[0m         \"\"\"\n\u001b[1;32m    933\u001b[0m         \u001b[0mcheck_is_fitted\u001b[0m\u001b[0;34m(\u001b[0m\u001b[0mself\u001b[0m\u001b[0;34m,\u001b[0m \u001b[0;34m\"coefs_\"\u001b[0m\u001b[0;34m)\u001b[0m\u001b[0;34m\u001b[0m\u001b[0m\n\u001b[0;32m--> 934\u001b[0;31m         \u001b[0my_pred\u001b[0m \u001b[0;34m=\u001b[0m \u001b[0mself\u001b[0m\u001b[0;34m.\u001b[0m\u001b[0m_predict\u001b[0m\u001b[0;34m(\u001b[0m\u001b[0mX\u001b[0m\u001b[0;34m)\u001b[0m\u001b[0;34m\u001b[0m\u001b[0m\n\u001b[0m\u001b[1;32m    935\u001b[0m \u001b[0;34m\u001b[0m\u001b[0m\n\u001b[1;32m    936\u001b[0m         \u001b[0;32mif\u001b[0m \u001b[0mself\u001b[0m\u001b[0;34m.\u001b[0m\u001b[0mn_outputs_\u001b[0m \u001b[0;34m==\u001b[0m \u001b[0;36m1\u001b[0m\u001b[0;34m:\u001b[0m\u001b[0;34m\u001b[0m\u001b[0m\n",
      "\u001b[0;32m/Library/Frameworks/Python.framework/Versions/3.5/lib/python3.5/site-packages/sklearn/neural_network/multilayer_perceptron.py\u001b[0m in \u001b[0;36m_predict\u001b[0;34m(self, X)\u001b[0m\n\u001b[1;32m    674\u001b[0m                                          layer_units[i + 1])))\n\u001b[1;32m    675\u001b[0m         \u001b[0;31m# forward propagate\u001b[0m\u001b[0;34m\u001b[0m\u001b[0;34m\u001b[0m\u001b[0m\n\u001b[0;32m--> 676\u001b[0;31m         \u001b[0mself\u001b[0m\u001b[0;34m.\u001b[0m\u001b[0m_forward_pass\u001b[0m\u001b[0;34m(\u001b[0m\u001b[0mactivations\u001b[0m\u001b[0;34m)\u001b[0m\u001b[0;34m\u001b[0m\u001b[0m\n\u001b[0m\u001b[1;32m    677\u001b[0m         \u001b[0my_pred\u001b[0m \u001b[0;34m=\u001b[0m \u001b[0mactivations\u001b[0m\u001b[0;34m[\u001b[0m\u001b[0;34m-\u001b[0m\u001b[0;36m1\u001b[0m\u001b[0;34m]\u001b[0m\u001b[0;34m\u001b[0m\u001b[0m\n\u001b[1;32m    678\u001b[0m \u001b[0;34m\u001b[0m\u001b[0m\n",
      "\u001b[0;32m/Library/Frameworks/Python.framework/Versions/3.5/lib/python3.5/site-packages/sklearn/neural_network/multilayer_perceptron.py\u001b[0m in \u001b[0;36m_forward_pass\u001b[0;34m(self, activations)\u001b[0m\n\u001b[1;32m    102\u001b[0m         \u001b[0;32mfor\u001b[0m \u001b[0mi\u001b[0m \u001b[0;32min\u001b[0m \u001b[0mrange\u001b[0m\u001b[0;34m(\u001b[0m\u001b[0mself\u001b[0m\u001b[0;34m.\u001b[0m\u001b[0mn_layers_\u001b[0m \u001b[0;34m-\u001b[0m \u001b[0;36m1\u001b[0m\u001b[0;34m)\u001b[0m\u001b[0;34m:\u001b[0m\u001b[0;34m\u001b[0m\u001b[0m\n\u001b[1;32m    103\u001b[0m             activations[i + 1] = safe_sparse_dot(activations[i],\n\u001b[0;32m--> 104\u001b[0;31m                                                  self.coefs_[i])\n\u001b[0m\u001b[1;32m    105\u001b[0m             \u001b[0mactivations\u001b[0m\u001b[0;34m[\u001b[0m\u001b[0mi\u001b[0m \u001b[0;34m+\u001b[0m \u001b[0;36m1\u001b[0m\u001b[0;34m]\u001b[0m \u001b[0;34m+=\u001b[0m \u001b[0mself\u001b[0m\u001b[0;34m.\u001b[0m\u001b[0mintercepts_\u001b[0m\u001b[0;34m[\u001b[0m\u001b[0mi\u001b[0m\u001b[0;34m]\u001b[0m\u001b[0;34m\u001b[0m\u001b[0m\n\u001b[1;32m    106\u001b[0m \u001b[0;34m\u001b[0m\u001b[0m\n",
      "\u001b[0;32m/Library/Frameworks/Python.framework/Versions/3.5/lib/python3.5/site-packages/sklearn/utils/extmath.py\u001b[0m in \u001b[0;36msafe_sparse_dot\u001b[0;34m(a, b, dense_output)\u001b[0m\n\u001b[1;32m    187\u001b[0m         \u001b[0;32mreturn\u001b[0m \u001b[0mret\u001b[0m\u001b[0;34m\u001b[0m\u001b[0m\n\u001b[1;32m    188\u001b[0m     \u001b[0;32melse\u001b[0m\u001b[0;34m:\u001b[0m\u001b[0;34m\u001b[0m\u001b[0m\n\u001b[0;32m--> 189\u001b[0;31m         \u001b[0;32mreturn\u001b[0m \u001b[0mfast_dot\u001b[0m\u001b[0;34m(\u001b[0m\u001b[0ma\u001b[0m\u001b[0;34m,\u001b[0m \u001b[0mb\u001b[0m\u001b[0;34m)\u001b[0m\u001b[0;34m\u001b[0m\u001b[0m\n\u001b[0m\u001b[1;32m    190\u001b[0m \u001b[0;34m\u001b[0m\u001b[0m\n\u001b[1;32m    191\u001b[0m \u001b[0;34m\u001b[0m\u001b[0m\n",
      "\u001b[0;31mValueError\u001b[0m: shapes (1,1) and (20055,100) not aligned: 1 (dim 1) != 20055 (dim 0)"
     ]
    }
   ],
   "source": [
    "#initialize the model\n",
    "mlp_clf = MLPClassifier()\n",
    "\n",
    "#fit the model\n",
    "mlp_clf.fit(X, y)\n",
    "\n",
    "mlp_labels = [mlp_clf.predict(v)[0] for v in features_test]"
   ]
  },
  {
   "cell_type": "code",
   "execution_count": null,
   "metadata": {
    "collapsed": false
   },
   "outputs": [],
   "source": [
    "#Confusion matrix\n",
    "mat = confusion_matrix(data_test['com_delta_received'], mlp_labels)\n",
    "seaborn.heatmap(mat.T, square=True, annot=True, fmt='d', cbar=False,\n",
    "                xticklabels=['delta_not_received', 'delta_received'], yticklabels=['delta_not_received', 'delta_received'])\n",
    "plt.xlabel('true label')\n",
    "plt.ylabel('predicted label')"
   ]
  },
  {
   "cell_type": "code",
   "execution_count": null,
   "metadata": {
    "collapsed": false
   },
   "outputs": [],
   "source": [
    "#data_test['com_delta_received']\n",
    "#mlp_labels"
   ]
  },
  {
   "cell_type": "code",
   "execution_count": null,
   "metadata": {
    "collapsed": false
   },
   "outputs": [],
   "source": [
    "#ROC curve\n",
    "x, y, _ = sklearn.metrics.roc_curve(data_test['com_delta_received'], mlp_labels)\n",
    "roc_auc = sklearn.metrics.auc(x,y)\n",
    "\n",
    "plt.figure()\n",
    "plt.plot(x,y, color = 'darkorange', lw = 2, label='ROC curve (area = %0.2f)' % roc_auc)\n",
    "plt.plot([0, 1], [0, 1], color='navy', lw=2, linestyle='--')\n",
    "plt.xlim([0.0, 1.0])\n",
    "plt.ylim([0.0, 1.05])\n",
    "plt.xlabel('False Positive Rate')\n",
    "plt.ylabel('True Positive Rate')\n",
    "plt.title('Receiver operating characteristic curve')\n",
    "plt.legend(loc=\"lower right\")\n",
    "plt.show()"
   ]
  },
  {
   "cell_type": "markdown",
   "metadata": {},
   "source": [
    "# Idea 2: try classification sparately for each \"cluster\""
   ]
  },
  {
   "cell_type": "code",
   "execution_count": null,
   "metadata": {
    "collapsed": true
   },
   "outputs": [],
   "source": []
  },
  {
   "cell_type": "markdown",
   "metadata": {
    "collapsed": false
   },
   "source": [
    "# Feature extraction\n",
    "\n",
    "Idea: We realized that none of the implementations of the machine learning algorithms actually provides us with the list of features that are most reliable to classify comments. Thus, we are using feature extraction tools from sklearn.\n",
    "\n",
    "Oh, we've observed that the features are very stable across algorithms, we could interpret these features by finding them in comments and see if these comments receive delta or not\n",
    "\n",
    "## feature extraction using SelectKBest"
   ]
  },
  {
   "cell_type": "code",
   "execution_count": 5,
   "metadata": {
    "collapsed": false
   },
   "outputs": [],
   "source": [
    "X = features_train\n",
    "y = data_train['com_delta_received'].as_matrix()\n",
    "\n",
    "# def extract_f (func, k):\n",
    "#     selector = sklearn.feature_selection.SelectKBest(func, k=k).fit(X,y)\n",
    "#     X_new = selector.transform(X)\n",
    "#     X_inverse = selector.inverse_transform(X_new)\n",
    "#     X_inverse = pd.DataFrame(X_inverse)\n",
    "    \n",
    "#     l = X_inverse.sum(axis = 0)\n",
    "#     feature_indices = []\n",
    "#     for i in range(l.shape[0]):\n",
    "#         if l[i] != 0:\n",
    "#            feature_indices.append(i)\n",
    "#     #feature_indices\n",
    "#     selected_features = features_train.columns[feature_indices].get_values()\n",
    "#     return selected_features\n",
    "\n",
    "def extract_KBest(func, k):\n",
    "    selector = SelectKBest(func, k=k).fit(X,y)\n",
    "    feature_indices = selector.get_support(indices=True)\n",
    "    \n",
    "    selected_features = features_train.columns[feature_indices].get_values()\n",
    "    scores = selector.scores_[feature_indices]\n",
    "    pvalues = selector.pvalues_[feature_indices]\n",
    "    return (selected_features, scores, pvalues)\n",
    "    \n"
   ]
  },
  {
   "cell_type": "code",
   "execution_count": 6,
   "metadata": {
    "collapsed": false
   },
   "outputs": [
    {
     "data": {
      "text/plain": [
       "array([518, 2126, 4005, 4008, 5527, 6871, 8004, 8257, 8404, 8853, 9388,\n",
       "       11195, 11720, 13361, 13487, 13560, 14947, 15896, 19048,\n",
       "       'com_upvotes'], dtype=object)"
      ]
     },
     "execution_count": 6,
     "metadata": {},
     "output_type": "execute_result"
    }
   ],
   "source": [
    "#f_classif\n",
    "selected_features_f, scores_f, pvalues_f = extract_KBest(sklearn.feature_selection.f_classif, 20)\n",
    "selected_features_f"
   ]
  },
  {
   "cell_type": "code",
   "execution_count": 7,
   "metadata": {
    "collapsed": false
   },
   "outputs": [
    {
     "name": "stderr",
     "output_type": "stream",
     "text": [
      "/Library/Frameworks/Python.framework/Versions/3.5/lib/python3.5/site-packages/ipykernel/__main__.py:6: FutureWarning: sort(columns=....) is deprecated, use sort_values(by=.....)\n"
     ]
    },
    {
     "data": {
      "text/html": [
       "<div>\n",
       "<table border=\"1\" class=\"dataframe\">\n",
       "  <thead>\n",
       "    <tr style=\"text-align: right;\">\n",
       "      <th></th>\n",
       "      <th>all_features_f</th>\n",
       "      <th>pvalues_f</th>\n",
       "      <th>scores_f</th>\n",
       "    </tr>\n",
       "  </thead>\n",
       "  <tbody>\n",
       "    <tr>\n",
       "      <th>0</th>\n",
       "      <td>com_upvotes</td>\n",
       "      <td>2.302640e-66</td>\n",
       "      <td>313.144981</td>\n",
       "    </tr>\n",
       "    <tr>\n",
       "      <th>1</th>\n",
       "      <td>iii</td>\n",
       "      <td>1.559025e-28</td>\n",
       "      <td>125.655200</td>\n",
       "    </tr>\n",
       "    <tr>\n",
       "      <th>2</th>\n",
       "      <td>setbacks</td>\n",
       "      <td>1.579795e-28</td>\n",
       "      <td>125.627707</td>\n",
       "    </tr>\n",
       "    <tr>\n",
       "      <th>3</th>\n",
       "      <td>pragmatism</td>\n",
       "      <td>1.767147e-28</td>\n",
       "      <td>125.394904</td>\n",
       "    </tr>\n",
       "    <tr>\n",
       "      <th>4</th>\n",
       "      <td>republican establishment</td>\n",
       "      <td>1.999861e-28</td>\n",
       "      <td>125.137948</td>\n",
       "    </tr>\n",
       "    <tr>\n",
       "      <th>5</th>\n",
       "      <td>populism</td>\n",
       "      <td>1.999861e-28</td>\n",
       "      <td>125.137948</td>\n",
       "    </tr>\n",
       "    <tr>\n",
       "      <th>6</th>\n",
       "      <td>integration</td>\n",
       "      <td>2.747173e-28</td>\n",
       "      <td>124.478618</td>\n",
       "    </tr>\n",
       "    <tr>\n",
       "      <th>7</th>\n",
       "      <td>demand multiple</td>\n",
       "      <td>3.298950e-28</td>\n",
       "      <td>124.098604</td>\n",
       "    </tr>\n",
       "    <tr>\n",
       "      <th>8</th>\n",
       "      <td>money like</td>\n",
       "      <td>4.555053e-28</td>\n",
       "      <td>123.428897</td>\n",
       "    </tr>\n",
       "    <tr>\n",
       "      <th>9</th>\n",
       "      <td>goal students</td>\n",
       "      <td>6.896836e-28</td>\n",
       "      <td>122.568095</td>\n",
       "    </tr>\n",
       "    <tr>\n",
       "      <th>10</th>\n",
       "      <td>demagoguery</td>\n",
       "      <td>4.606554e-27</td>\n",
       "      <td>118.631474</td>\n",
       "    </tr>\n",
       "    <tr>\n",
       "      <th>11</th>\n",
       "      <td>caliphate</td>\n",
       "      <td>7.874183e-27</td>\n",
       "      <td>117.521310</td>\n",
       "    </tr>\n",
       "    <tr>\n",
       "      <th>12</th>\n",
       "      <td>vote sanders</td>\n",
       "      <td>1.348955e-26</td>\n",
       "      <td>116.407086</td>\n",
       "    </tr>\n",
       "    <tr>\n",
       "      <th>13</th>\n",
       "      <td>nuclear weapons</td>\n",
       "      <td>4.171977e-26</td>\n",
       "      <td>114.071889</td>\n",
       "    </tr>\n",
       "    <tr>\n",
       "      <th>14</th>\n",
       "      <td>leaning</td>\n",
       "      <td>6.225142e-26</td>\n",
       "      <td>113.244719</td>\n",
       "    </tr>\n",
       "    <tr>\n",
       "      <th>15</th>\n",
       "      <td>adherence</td>\n",
       "      <td>5.280708e-25</td>\n",
       "      <td>108.830697</td>\n",
       "    </tr>\n",
       "    <tr>\n",
       "      <th>16</th>\n",
       "      <td>establishment just</td>\n",
       "      <td>6.211547e-25</td>\n",
       "      <td>108.495872</td>\n",
       "    </tr>\n",
       "    <tr>\n",
       "      <th>17</th>\n",
       "      <td>just big</td>\n",
       "      <td>8.777714e-25</td>\n",
       "      <td>107.782856</td>\n",
       "    </tr>\n",
       "    <tr>\n",
       "      <th>18</th>\n",
       "      <td>presently</td>\n",
       "      <td>1.565204e-24</td>\n",
       "      <td>106.590787</td>\n",
       "    </tr>\n",
       "    <tr>\n",
       "      <th>19</th>\n",
       "      <td>inevitable</td>\n",
       "      <td>3.184169e-24</td>\n",
       "      <td>105.127956</td>\n",
       "    </tr>\n",
       "  </tbody>\n",
       "</table>\n",
       "</div>"
      ],
      "text/plain": [
       "              all_features_f     pvalues_f    scores_f\n",
       "0                com_upvotes  2.302640e-66  313.144981\n",
       "1                        iii  1.559025e-28  125.655200\n",
       "2                   setbacks  1.579795e-28  125.627707\n",
       "3                 pragmatism  1.767147e-28  125.394904\n",
       "4   republican establishment  1.999861e-28  125.137948\n",
       "5                   populism  1.999861e-28  125.137948\n",
       "6                integration  2.747173e-28  124.478618\n",
       "7            demand multiple  3.298950e-28  124.098604\n",
       "8                 money like  4.555053e-28  123.428897\n",
       "9              goal students  6.896836e-28  122.568095\n",
       "10               demagoguery  4.606554e-27  118.631474\n",
       "11                 caliphate  7.874183e-27  117.521310\n",
       "12              vote sanders  1.348955e-26  116.407086\n",
       "13           nuclear weapons  4.171977e-26  114.071889\n",
       "14                   leaning  6.225142e-26  113.244719\n",
       "15                 adherence  5.280708e-25  108.830697\n",
       "16        establishment just  6.211547e-25  108.495872\n",
       "17                  just big  8.777714e-25  107.782856\n",
       "18                 presently  1.565204e-24  106.590787\n",
       "19                inevitable  3.184169e-24  105.127956"
      ]
     },
     "execution_count": 7,
     "metadata": {},
     "output_type": "execute_result"
    }
   ],
   "source": [
    "tf_features_indices_f = selected_features_f[:-1].astype(int)\n",
    "all_features_f  = np.array(TFVectorizer.get_feature_names())[tf_features_indices_f].tolist()\n",
    "all_features_f.append(selected_features_f[-1])\n",
    "#all_features_f\n",
    "d = {'all_features_f': all_features_f, 'scores_f': scores_f, 'pvalues_f': pvalues_f}\n",
    "F_f_DF = pd.DataFrame(data = d).sort(columns='scores_f', axis=0, ascending=False).reset_index(drop = True)\n",
    "F_f_DF"
   ]
  },
  {
   "cell_type": "code",
   "execution_count": 21,
   "metadata": {
    "collapsed": false
   },
   "outputs": [],
   "source": [
    "#chi2 - we can't use this algo because some values of upvotes are negative\n",
    "selector = SelectKBest(mutual_info_classif, 20).fit(X,y)\n",
    "    #feature_indices = selector.get_support(indices=True)\n",
    "    \n",
    "    #selected_features = features_train.columns[feature_indices].get_values()\n",
    "    #scores = selector.scores_[feature_indices]\n",
    "    #pvalues = selector.pvalues_[feature_indices]"
   ]
  },
  {
   "cell_type": "code",
   "execution_count": null,
   "metadata": {
    "collapsed": true
   },
   "outputs": [],
   "source": [
    "feature_indices = selector.get_support(indices=True)"
   ]
  },
  {
   "cell_type": "code",
   "execution_count": 20,
   "metadata": {
    "collapsed": false
   },
   "outputs": [
    {
     "ename": "TypeError",
     "evalue": "'NoneType' object is not subscriptable",
     "output_type": "error",
     "traceback": [
      "\u001b[0;31m---------------------------------------------------------------------------\u001b[0m",
      "\u001b[0;31mTypeError\u001b[0m                                 Traceback (most recent call last)",
      "\u001b[0;32m<ipython-input-20-75d201b792f5>\u001b[0m in \u001b[0;36m<module>\u001b[0;34m()\u001b[0m\n\u001b[1;32m      1\u001b[0m \u001b[0;31m#mutual_info_classif\u001b[0m\u001b[0;34m\u001b[0m\u001b[0;34m\u001b[0m\u001b[0m\n\u001b[0;32m----> 2\u001b[0;31m \u001b[0mselected_features_m\u001b[0m \u001b[0;34m=\u001b[0m \u001b[0mextract_KBest\u001b[0m\u001b[0;34m(\u001b[0m\u001b[0mmutual_info_classif\u001b[0m\u001b[0;34m,\u001b[0m \u001b[0;36m20\u001b[0m\u001b[0;34m)\u001b[0m\u001b[0;34m\u001b[0m\u001b[0m\n\u001b[0m\u001b[1;32m      3\u001b[0m \u001b[0mselected_features_m\u001b[0m\u001b[0;34m\u001b[0m\u001b[0m\n",
      "\u001b[0;32m<ipython-input-5-fce0765b0668>\u001b[0m in \u001b[0;36mextract_KBest\u001b[0;34m(func, k)\u001b[0m\n\u001b[1;32m     23\u001b[0m     \u001b[0mselected_features\u001b[0m \u001b[0;34m=\u001b[0m \u001b[0mfeatures_train\u001b[0m\u001b[0;34m.\u001b[0m\u001b[0mcolumns\u001b[0m\u001b[0;34m[\u001b[0m\u001b[0mfeature_indices\u001b[0m\u001b[0;34m]\u001b[0m\u001b[0;34m.\u001b[0m\u001b[0mget_values\u001b[0m\u001b[0;34m(\u001b[0m\u001b[0;34m)\u001b[0m\u001b[0;34m\u001b[0m\u001b[0m\n\u001b[1;32m     24\u001b[0m     \u001b[0mscores\u001b[0m \u001b[0;34m=\u001b[0m \u001b[0mselector\u001b[0m\u001b[0;34m.\u001b[0m\u001b[0mscores_\u001b[0m\u001b[0;34m[\u001b[0m\u001b[0mfeature_indices\u001b[0m\u001b[0;34m]\u001b[0m\u001b[0;34m\u001b[0m\u001b[0m\n\u001b[0;32m---> 25\u001b[0;31m     \u001b[0mpvalues\u001b[0m \u001b[0;34m=\u001b[0m \u001b[0mselector\u001b[0m\u001b[0;34m.\u001b[0m\u001b[0mpvalues_\u001b[0m\u001b[0;34m[\u001b[0m\u001b[0mfeature_indices\u001b[0m\u001b[0;34m]\u001b[0m\u001b[0;34m\u001b[0m\u001b[0m\n\u001b[0m\u001b[1;32m     26\u001b[0m     \u001b[0;32mreturn\u001b[0m \u001b[0;34m(\u001b[0m\u001b[0mselected_features\u001b[0m\u001b[0;34m,\u001b[0m \u001b[0mscores\u001b[0m\u001b[0;34m,\u001b[0m \u001b[0mpvalues\u001b[0m\u001b[0;34m)\u001b[0m\u001b[0;34m\u001b[0m\u001b[0m\n\u001b[1;32m     27\u001b[0m \u001b[0;34m\u001b[0m\u001b[0m\n",
      "\u001b[0;31mTypeError\u001b[0m: 'NoneType' object is not subscriptable"
     ]
    }
   ],
   "source": [
    "#mutual_info_classif\n",
    "selected_features_m = extract_KBest(mutual_info_classif, 20)\n",
    "selected_features_m"
   ]
  },
  {
   "cell_type": "code",
   "execution_count": null,
   "metadata": {
    "collapsed": false
   },
   "outputs": [],
   "source": [
    "tf_features_indices_m = selected_features_m[:-2].astype(int)\n",
    "all_features_m  = np.array(TFVectorizer.get_feature_names())[tf_features_indices_m].tolist()\n",
    "all_features_m.extend(selected_features_m[-2:])\n",
    "#all_features_m\n",
    "d = {'all_features_m': all_features_m, 'scores_m': scores_m, 'pvalues_m': pvalues_m}\n",
    "F_m_DF = pd.DataFrame(data = d).sort(columns='scores_m', axis=0, ascending=False).reset_index(drop = True)\n",
    "F_m_DF"
   ]
  },
  {
   "cell_type": "code",
   "execution_count": null,
   "metadata": {
    "collapsed": false
   },
   "outputs": [],
   "source": [
    "F_m_DF"
   ]
  },
  {
   "cell_type": "markdown",
   "metadata": {},
   "source": [
    "## Feature extraction using Tree-based feature selection"
   ]
  },
  {
   "cell_type": "code",
   "execution_count": null,
   "metadata": {
    "collapsed": false
   },
   "outputs": [],
   "source": []
  },
  {
   "cell_type": "code",
   "execution_count": null,
   "metadata": {
    "collapsed": false
   },
   "outputs": [],
   "source": [
    "#testing\n",
    "#feature_indices = SelectFromModel(tree_clf, prefit=True).get_support(indices=True)\n",
    "#tree_clf.feature_importances_[feature_indices]\n",
    "#selected_features = features_train.columns[feature_indices].get_values()"
   ]
  },
  {
   "cell_type": "code",
   "execution_count": null,
   "metadata": {
    "collapsed": false
   },
   "outputs": [],
   "source": []
  },
  {
   "cell_type": "code",
   "execution_count": null,
   "metadata": {
    "collapsed": false
   },
   "outputs": [],
   "source": [
    "#pd.DataFrame(tree_clf.feature_importances_).sort(columns = [0],axis=0, ascending=False).iloc[:feature_indices.shape[0], :]"
   ]
  },
  {
   "cell_type": "code",
   "execution_count": 41,
   "metadata": {
    "collapsed": false
   },
   "outputs": [],
   "source": [
    "def extract_model(clf_fitted):\n",
    "    feature_indices = SelectFromModel(clf_fitted, prefit=True).get_support(indices=True)\n",
    "    try:\n",
    "        score = clf_fitted.feature_importances_[feature_indices]\n",
    "    except:\n",
    "        score = None\n",
    "    selected_features = features_train.columns[feature_indices].get_values()\n",
    "    return (selected_features, score)"
   ]
  },
  {
   "cell_type": "code",
   "execution_count": 36,
   "metadata": {
    "collapsed": false
   },
   "outputs": [],
   "source": [
    "tree_clf = DecisionTreeClassifier(max_depth=10,random_state=0).fit(X, y)"
   ]
  },
  {
   "cell_type": "code",
   "execution_count": 37,
   "metadata": {
    "collapsed": false
   },
   "outputs": [
    {
     "data": {
      "text/plain": [
       "array([2126, 2344, 2624, 7181, 7320, 7720, 8004, 9035, 9084, 10669, 13361,\n",
       "       15896, 16815, 16952, 17375, 17493, 17708, 19144, 19664,\n",
       "       'com_upvotes', 'kmeans', 'com_avg_pt_depth'], dtype=object)"
      ]
     },
     "execution_count": 37,
     "metadata": {},
     "output_type": "execute_result"
    }
   ],
   "source": [
    "selected_features_t1, scores_t1 = extract_model(tree_clf)\n",
    "selected_features_t1"
   ]
  },
  {
   "cell_type": "code",
   "execution_count": 38,
   "metadata": {
    "collapsed": false
   },
   "outputs": [
    {
     "data": {
      "text/plain": [
       "(22,)"
      ]
     },
     "execution_count": 38,
     "metadata": {},
     "output_type": "execute_result"
    }
   ],
   "source": [
    "selected_features_t1.shape"
   ]
  },
  {
   "cell_type": "code",
   "execution_count": 28,
   "metadata": {
    "collapsed": false
   },
   "outputs": [
    {
     "name": "stderr",
     "output_type": "stream",
     "text": [
      "/Library/Frameworks/Python.framework/Versions/3.5/lib/python3.5/site-packages/ipykernel/__main__.py:7: FutureWarning: sort(columns=....) is deprecated, use sort_values(by=.....)\n"
     ]
    },
    {
     "data": {
      "text/html": [
       "<div>\n",
       "<table border=\"1\" class=\"dataframe\">\n",
       "  <thead>\n",
       "    <tr style=\"text-align: right;\">\n",
       "      <th></th>\n",
       "      <th>all_features_t1</th>\n",
       "      <th>scores_t1</th>\n",
       "    </tr>\n",
       "  </thead>\n",
       "  <tbody>\n",
       "    <tr>\n",
       "      <th>0</th>\n",
       "      <td>com_upvotes</td>\n",
       "      <td>0.142943</td>\n",
       "    </tr>\n",
       "    <tr>\n",
       "      <th>1</th>\n",
       "      <td>wonder</td>\n",
       "      <td>0.064636</td>\n",
       "    </tr>\n",
       "    <tr>\n",
       "      <th>2</th>\n",
       "      <td>massive</td>\n",
       "      <td>0.060952</td>\n",
       "    </tr>\n",
       "    <tr>\n",
       "      <th>3</th>\n",
       "      <td>caliphate</td>\n",
       "      <td>0.059160</td>\n",
       "    </tr>\n",
       "    <tr>\n",
       "      <th>4</th>\n",
       "      <td>setbacks</td>\n",
       "      <td>0.059070</td>\n",
       "    </tr>\n",
       "    <tr>\n",
       "      <th>5</th>\n",
       "      <td>iii</td>\n",
       "      <td>0.058979</td>\n",
       "    </tr>\n",
       "    <tr>\n",
       "      <th>6</th>\n",
       "      <td>populism</td>\n",
       "      <td>0.058890</td>\n",
       "    </tr>\n",
       "    <tr>\n",
       "      <th>7</th>\n",
       "      <td>killing</td>\n",
       "      <td>0.054647</td>\n",
       "    </tr>\n",
       "    <tr>\n",
       "      <th>8</th>\n",
       "      <td>com_avg_pt_depth</td>\n",
       "      <td>0.050429</td>\n",
       "    </tr>\n",
       "    <tr>\n",
       "      <th>9</th>\n",
       "      <td>want equality</td>\n",
       "      <td>0.039423</td>\n",
       "    </tr>\n",
       "    <tr>\n",
       "      <th>10</th>\n",
       "      <td>students</td>\n",
       "      <td>0.039332</td>\n",
       "    </tr>\n",
       "    <tr>\n",
       "      <th>11</th>\n",
       "      <td>think fear</td>\n",
       "      <td>0.039242</td>\n",
       "    </tr>\n",
       "    <tr>\n",
       "      <th>12</th>\n",
       "      <td>happened</td>\n",
       "      <td>0.037833</td>\n",
       "    </tr>\n",
       "    <tr>\n",
       "      <th>13</th>\n",
       "      <td>kmeans</td>\n",
       "      <td>0.036232</td>\n",
       "    </tr>\n",
       "    <tr>\n",
       "      <th>14</th>\n",
       "      <td>steven pinker</td>\n",
       "      <td>0.029773</td>\n",
       "    </tr>\n",
       "    <tr>\n",
       "      <th>15</th>\n",
       "      <td>terrorize</td>\n",
       "      <td>0.029750</td>\n",
       "    </tr>\n",
       "    <tr>\n",
       "      <th>16</th>\n",
       "      <td>taxes tax</td>\n",
       "      <td>0.029157</td>\n",
       "    </tr>\n",
       "    <tr>\n",
       "      <th>17</th>\n",
       "      <td>justified</td>\n",
       "      <td>0.027013</td>\n",
       "    </tr>\n",
       "    <tr>\n",
       "      <th>18</th>\n",
       "      <td>cell</td>\n",
       "      <td>0.022511</td>\n",
       "    </tr>\n",
       "    <tr>\n",
       "      <th>19</th>\n",
       "      <td>group</td>\n",
       "      <td>0.020010</td>\n",
       "    </tr>\n",
       "  </tbody>\n",
       "</table>\n",
       "</div>"
      ],
      "text/plain": [
       "     all_features_t1  scores_t1\n",
       "0        com_upvotes   0.142943\n",
       "1             wonder   0.064636\n",
       "2            massive   0.060952\n",
       "3          caliphate   0.059160\n",
       "4           setbacks   0.059070\n",
       "5                iii   0.058979\n",
       "6           populism   0.058890\n",
       "7            killing   0.054647\n",
       "8   com_avg_pt_depth   0.050429\n",
       "9      want equality   0.039423\n",
       "10          students   0.039332\n",
       "11        think fear   0.039242\n",
       "12          happened   0.037833\n",
       "13            kmeans   0.036232\n",
       "14     steven pinker   0.029773\n",
       "15         terrorize   0.029750\n",
       "16         taxes tax   0.029157\n",
       "17         justified   0.027013\n",
       "18              cell   0.022511\n",
       "19             group   0.020010"
      ]
     },
     "execution_count": 28,
     "metadata": {},
     "output_type": "execute_result"
    }
   ],
   "source": [
    "tf_features_indices_t1 = selected_features_t1[:-3].astype(int)\n",
    "all_features_t1  = np.array(TFVectorizer.get_feature_names())[tf_features_indices_t1].tolist()\n",
    "all_features_t1.extend(selected_features_t1[-3:])\n",
    "#all_features_t1\n",
    "\n",
    "d = {'all_features_t1': all_features_t1, 'scores_t1': scores_t1}\n",
    "F_t1_DF = pd.DataFrame(data = d).sort(columns='scores_t1', axis=0, ascending=False).reset_index(drop = True)\n",
    "F_t1_DF.iloc[:20, :]"
   ]
  },
  {
   "cell_type": "code",
   "execution_count": null,
   "metadata": {
    "collapsed": false,
    "scrolled": true
   },
   "outputs": [],
   "source": []
  },
  {
   "cell_type": "code",
   "execution_count": 29,
   "metadata": {
    "collapsed": false
   },
   "outputs": [],
   "source": [
    "tree2_clf = ExtraTreesClassifier(n_estimators=250,random_state=0).fit(X, y)"
   ]
  },
  {
   "cell_type": "code",
   "execution_count": null,
   "metadata": {
    "collapsed": true
   },
   "outputs": [],
   "source": []
  },
  {
   "cell_type": "code",
   "execution_count": 15,
   "metadata": {
    "collapsed": false
   },
   "outputs": [],
   "source": [
    "selected_features_t2, scores_t2 = extract_model(tree2_clf)\n",
    "#selected_features_t2[2700:]"
   ]
  },
  {
   "cell_type": "code",
   "execution_count": 31,
   "metadata": {
    "collapsed": false
   },
   "outputs": [
    {
     "data": {
      "text/plain": [
       "array([19878, 19918, 19931, 19935, 19938, 19945, 19946, 19948, 19956,\n",
       "       19960, 19983, 19984, 19985, 19986, 19988, 19990, 19991, 19993,\n",
       "       20014, 20016, 20024, 20034, 20047, 'com_upvotes', 'KL', 'JS',\n",
       "       'kmeans', 'com_avg_pt_depth'], dtype=object)"
      ]
     },
     "execution_count": 31,
     "metadata": {},
     "output_type": "execute_result"
    }
   ],
   "source": [
    "selected_features_t2[2600:]"
   ]
  },
  {
   "cell_type": "code",
   "execution_count": 32,
   "metadata": {
    "collapsed": false
   },
   "outputs": [
    {
     "name": "stderr",
     "output_type": "stream",
     "text": [
      "/Library/Frameworks/Python.framework/Versions/3.5/lib/python3.5/site-packages/ipykernel/__main__.py:7: FutureWarning: sort(columns=....) is deprecated, use sort_values(by=.....)\n"
     ]
    },
    {
     "data": {
      "text/html": [
       "<div>\n",
       "<table border=\"1\" class=\"dataframe\">\n",
       "  <thead>\n",
       "    <tr style=\"text-align: right;\">\n",
       "      <th></th>\n",
       "      <th>all_features_t2</th>\n",
       "      <th>scores_t2</th>\n",
       "    </tr>\n",
       "  </thead>\n",
       "  <tbody>\n",
       "    <tr>\n",
       "      <th>0</th>\n",
       "      <td>com_upvotes</td>\n",
       "      <td>0.142943</td>\n",
       "    </tr>\n",
       "    <tr>\n",
       "      <th>1</th>\n",
       "      <td>wonder</td>\n",
       "      <td>0.064636</td>\n",
       "    </tr>\n",
       "    <tr>\n",
       "      <th>2</th>\n",
       "      <td>massive</td>\n",
       "      <td>0.060952</td>\n",
       "    </tr>\n",
       "    <tr>\n",
       "      <th>3</th>\n",
       "      <td>caliphate</td>\n",
       "      <td>0.059160</td>\n",
       "    </tr>\n",
       "    <tr>\n",
       "      <th>4</th>\n",
       "      <td>setbacks</td>\n",
       "      <td>0.059070</td>\n",
       "    </tr>\n",
       "    <tr>\n",
       "      <th>5</th>\n",
       "      <td>iii</td>\n",
       "      <td>0.058979</td>\n",
       "    </tr>\n",
       "    <tr>\n",
       "      <th>6</th>\n",
       "      <td>populism</td>\n",
       "      <td>0.058890</td>\n",
       "    </tr>\n",
       "    <tr>\n",
       "      <th>7</th>\n",
       "      <td>killing</td>\n",
       "      <td>0.054647</td>\n",
       "    </tr>\n",
       "    <tr>\n",
       "      <th>8</th>\n",
       "      <td>com_avg_pt_depth</td>\n",
       "      <td>0.050429</td>\n",
       "    </tr>\n",
       "    <tr>\n",
       "      <th>9</th>\n",
       "      <td>want equality</td>\n",
       "      <td>0.039423</td>\n",
       "    </tr>\n",
       "    <tr>\n",
       "      <th>10</th>\n",
       "      <td>students</td>\n",
       "      <td>0.039332</td>\n",
       "    </tr>\n",
       "    <tr>\n",
       "      <th>11</th>\n",
       "      <td>think fear</td>\n",
       "      <td>0.039242</td>\n",
       "    </tr>\n",
       "    <tr>\n",
       "      <th>12</th>\n",
       "      <td>happened</td>\n",
       "      <td>0.037833</td>\n",
       "    </tr>\n",
       "    <tr>\n",
       "      <th>13</th>\n",
       "      <td>kmeans</td>\n",
       "      <td>0.036232</td>\n",
       "    </tr>\n",
       "    <tr>\n",
       "      <th>14</th>\n",
       "      <td>steven pinker</td>\n",
       "      <td>0.029773</td>\n",
       "    </tr>\n",
       "    <tr>\n",
       "      <th>15</th>\n",
       "      <td>terrorize</td>\n",
       "      <td>0.029750</td>\n",
       "    </tr>\n",
       "    <tr>\n",
       "      <th>16</th>\n",
       "      <td>taxes tax</td>\n",
       "      <td>0.029157</td>\n",
       "    </tr>\n",
       "    <tr>\n",
       "      <th>17</th>\n",
       "      <td>justified</td>\n",
       "      <td>0.027013</td>\n",
       "    </tr>\n",
       "    <tr>\n",
       "      <th>18</th>\n",
       "      <td>cell</td>\n",
       "      <td>0.022511</td>\n",
       "    </tr>\n",
       "    <tr>\n",
       "      <th>19</th>\n",
       "      <td>group</td>\n",
       "      <td>0.020010</td>\n",
       "    </tr>\n",
       "  </tbody>\n",
       "</table>\n",
       "</div>"
      ],
      "text/plain": [
       "     all_features_t2  scores_t2\n",
       "0        com_upvotes   0.142943\n",
       "1             wonder   0.064636\n",
       "2            massive   0.060952\n",
       "3          caliphate   0.059160\n",
       "4           setbacks   0.059070\n",
       "5                iii   0.058979\n",
       "6           populism   0.058890\n",
       "7            killing   0.054647\n",
       "8   com_avg_pt_depth   0.050429\n",
       "9      want equality   0.039423\n",
       "10          students   0.039332\n",
       "11        think fear   0.039242\n",
       "12          happened   0.037833\n",
       "13            kmeans   0.036232\n",
       "14     steven pinker   0.029773\n",
       "15         terrorize   0.029750\n",
       "16         taxes tax   0.029157\n",
       "17         justified   0.027013\n",
       "18              cell   0.022511\n",
       "19             group   0.020010"
      ]
     },
     "execution_count": 32,
     "metadata": {},
     "output_type": "execute_result"
    }
   ],
   "source": [
    "tf_features_indices_t2 = selected_features_t2[:-5].astype(int)\n",
    "all_features_t2  = np.array(TFVectorizer.get_feature_names())[tf_features_indices_t2].tolist()\n",
    "all_features_t2.extend(selected_features_t2[-5:])\n",
    "#all_features_t1\n",
    "\n",
    "d = {'all_features_t2': all_features_t2, 'scores_t2': scores_t2}\n",
    "F_t2_DF = pd.DataFrame(data = d).sort(columns='scores_t2', axis=0, ascending=False).reset_index(drop = True)\n",
    "F_t2_DF.iloc[:20, :]"
   ]
  },
  {
   "cell_type": "code",
   "execution_count": 33,
   "metadata": {
    "collapsed": false
   },
   "outputs": [
    {
     "data": {
      "text/html": [
       "<div>\n",
       "<table border=\"1\" class=\"dataframe\">\n",
       "  <thead>\n",
       "    <tr style=\"text-align: right;\">\n",
       "      <th></th>\n",
       "      <th>all_features_f</th>\n",
       "      <th>pvalues_f</th>\n",
       "      <th>scores_f</th>\n",
       "      <th>all_features_t1</th>\n",
       "      <th>scores_t1</th>\n",
       "      <th>all_features_t2</th>\n",
       "      <th>scores_t2</th>\n",
       "    </tr>\n",
       "  </thead>\n",
       "  <tbody>\n",
       "    <tr>\n",
       "      <th>0</th>\n",
       "      <td>com_upvotes</td>\n",
       "      <td>2.302640e-66</td>\n",
       "      <td>313.144981</td>\n",
       "      <td>com_upvotes</td>\n",
       "      <td>0.142943</td>\n",
       "      <td>com_upvotes</td>\n",
       "      <td>0.142943</td>\n",
       "    </tr>\n",
       "    <tr>\n",
       "      <th>1</th>\n",
       "      <td>iii</td>\n",
       "      <td>1.559025e-28</td>\n",
       "      <td>125.655200</td>\n",
       "      <td>wonder</td>\n",
       "      <td>0.064636</td>\n",
       "      <td>wonder</td>\n",
       "      <td>0.064636</td>\n",
       "    </tr>\n",
       "    <tr>\n",
       "      <th>2</th>\n",
       "      <td>setbacks</td>\n",
       "      <td>1.579795e-28</td>\n",
       "      <td>125.627707</td>\n",
       "      <td>massive</td>\n",
       "      <td>0.060952</td>\n",
       "      <td>massive</td>\n",
       "      <td>0.060952</td>\n",
       "    </tr>\n",
       "    <tr>\n",
       "      <th>3</th>\n",
       "      <td>pragmatism</td>\n",
       "      <td>1.767147e-28</td>\n",
       "      <td>125.394904</td>\n",
       "      <td>caliphate</td>\n",
       "      <td>0.059160</td>\n",
       "      <td>caliphate</td>\n",
       "      <td>0.059160</td>\n",
       "    </tr>\n",
       "    <tr>\n",
       "      <th>4</th>\n",
       "      <td>republican establishment</td>\n",
       "      <td>1.999861e-28</td>\n",
       "      <td>125.137948</td>\n",
       "      <td>setbacks</td>\n",
       "      <td>0.059070</td>\n",
       "      <td>setbacks</td>\n",
       "      <td>0.059070</td>\n",
       "    </tr>\n",
       "    <tr>\n",
       "      <th>5</th>\n",
       "      <td>populism</td>\n",
       "      <td>1.999861e-28</td>\n",
       "      <td>125.137948</td>\n",
       "      <td>iii</td>\n",
       "      <td>0.058979</td>\n",
       "      <td>iii</td>\n",
       "      <td>0.058979</td>\n",
       "    </tr>\n",
       "    <tr>\n",
       "      <th>6</th>\n",
       "      <td>integration</td>\n",
       "      <td>2.747173e-28</td>\n",
       "      <td>124.478618</td>\n",
       "      <td>populism</td>\n",
       "      <td>0.058890</td>\n",
       "      <td>populism</td>\n",
       "      <td>0.058890</td>\n",
       "    </tr>\n",
       "    <tr>\n",
       "      <th>7</th>\n",
       "      <td>demand multiple</td>\n",
       "      <td>3.298950e-28</td>\n",
       "      <td>124.098604</td>\n",
       "      <td>killing</td>\n",
       "      <td>0.054647</td>\n",
       "      <td>killing</td>\n",
       "      <td>0.054647</td>\n",
       "    </tr>\n",
       "    <tr>\n",
       "      <th>8</th>\n",
       "      <td>money like</td>\n",
       "      <td>4.555053e-28</td>\n",
       "      <td>123.428897</td>\n",
       "      <td>com_avg_pt_depth</td>\n",
       "      <td>0.050429</td>\n",
       "      <td>com_avg_pt_depth</td>\n",
       "      <td>0.050429</td>\n",
       "    </tr>\n",
       "    <tr>\n",
       "      <th>9</th>\n",
       "      <td>goal students</td>\n",
       "      <td>6.896836e-28</td>\n",
       "      <td>122.568095</td>\n",
       "      <td>want equality</td>\n",
       "      <td>0.039423</td>\n",
       "      <td>want equality</td>\n",
       "      <td>0.039423</td>\n",
       "    </tr>\n",
       "    <tr>\n",
       "      <th>10</th>\n",
       "      <td>demagoguery</td>\n",
       "      <td>4.606554e-27</td>\n",
       "      <td>118.631474</td>\n",
       "      <td>students</td>\n",
       "      <td>0.039332</td>\n",
       "      <td>students</td>\n",
       "      <td>0.039332</td>\n",
       "    </tr>\n",
       "    <tr>\n",
       "      <th>11</th>\n",
       "      <td>caliphate</td>\n",
       "      <td>7.874183e-27</td>\n",
       "      <td>117.521310</td>\n",
       "      <td>think fear</td>\n",
       "      <td>0.039242</td>\n",
       "      <td>think fear</td>\n",
       "      <td>0.039242</td>\n",
       "    </tr>\n",
       "    <tr>\n",
       "      <th>12</th>\n",
       "      <td>vote sanders</td>\n",
       "      <td>1.348955e-26</td>\n",
       "      <td>116.407086</td>\n",
       "      <td>happened</td>\n",
       "      <td>0.037833</td>\n",
       "      <td>happened</td>\n",
       "      <td>0.037833</td>\n",
       "    </tr>\n",
       "    <tr>\n",
       "      <th>13</th>\n",
       "      <td>nuclear weapons</td>\n",
       "      <td>4.171977e-26</td>\n",
       "      <td>114.071889</td>\n",
       "      <td>kmeans</td>\n",
       "      <td>0.036232</td>\n",
       "      <td>kmeans</td>\n",
       "      <td>0.036232</td>\n",
       "    </tr>\n",
       "    <tr>\n",
       "      <th>14</th>\n",
       "      <td>leaning</td>\n",
       "      <td>6.225142e-26</td>\n",
       "      <td>113.244719</td>\n",
       "      <td>steven pinker</td>\n",
       "      <td>0.029773</td>\n",
       "      <td>steven pinker</td>\n",
       "      <td>0.029773</td>\n",
       "    </tr>\n",
       "    <tr>\n",
       "      <th>15</th>\n",
       "      <td>adherence</td>\n",
       "      <td>5.280708e-25</td>\n",
       "      <td>108.830697</td>\n",
       "      <td>terrorize</td>\n",
       "      <td>0.029750</td>\n",
       "      <td>terrorize</td>\n",
       "      <td>0.029750</td>\n",
       "    </tr>\n",
       "    <tr>\n",
       "      <th>16</th>\n",
       "      <td>establishment just</td>\n",
       "      <td>6.211547e-25</td>\n",
       "      <td>108.495872</td>\n",
       "      <td>taxes tax</td>\n",
       "      <td>0.029157</td>\n",
       "      <td>taxes tax</td>\n",
       "      <td>0.029157</td>\n",
       "    </tr>\n",
       "    <tr>\n",
       "      <th>17</th>\n",
       "      <td>just big</td>\n",
       "      <td>8.777714e-25</td>\n",
       "      <td>107.782856</td>\n",
       "      <td>justified</td>\n",
       "      <td>0.027013</td>\n",
       "      <td>justified</td>\n",
       "      <td>0.027013</td>\n",
       "    </tr>\n",
       "    <tr>\n",
       "      <th>18</th>\n",
       "      <td>presently</td>\n",
       "      <td>1.565204e-24</td>\n",
       "      <td>106.590787</td>\n",
       "      <td>cell</td>\n",
       "      <td>0.022511</td>\n",
       "      <td>cell</td>\n",
       "      <td>0.022511</td>\n",
       "    </tr>\n",
       "    <tr>\n",
       "      <th>19</th>\n",
       "      <td>inevitable</td>\n",
       "      <td>3.184169e-24</td>\n",
       "      <td>105.127956</td>\n",
       "      <td>group</td>\n",
       "      <td>0.020010</td>\n",
       "      <td>group</td>\n",
       "      <td>0.020010</td>\n",
       "    </tr>\n",
       "  </tbody>\n",
       "</table>\n",
       "</div>"
      ],
      "text/plain": [
       "              all_features_f     pvalues_f    scores_f   all_features_t1  \\\n",
       "0                com_upvotes  2.302640e-66  313.144981       com_upvotes   \n",
       "1                        iii  1.559025e-28  125.655200            wonder   \n",
       "2                   setbacks  1.579795e-28  125.627707           massive   \n",
       "3                 pragmatism  1.767147e-28  125.394904         caliphate   \n",
       "4   republican establishment  1.999861e-28  125.137948          setbacks   \n",
       "5                   populism  1.999861e-28  125.137948               iii   \n",
       "6                integration  2.747173e-28  124.478618          populism   \n",
       "7            demand multiple  3.298950e-28  124.098604           killing   \n",
       "8                 money like  4.555053e-28  123.428897  com_avg_pt_depth   \n",
       "9              goal students  6.896836e-28  122.568095     want equality   \n",
       "10               demagoguery  4.606554e-27  118.631474          students   \n",
       "11                 caliphate  7.874183e-27  117.521310        think fear   \n",
       "12              vote sanders  1.348955e-26  116.407086          happened   \n",
       "13           nuclear weapons  4.171977e-26  114.071889            kmeans   \n",
       "14                   leaning  6.225142e-26  113.244719     steven pinker   \n",
       "15                 adherence  5.280708e-25  108.830697         terrorize   \n",
       "16        establishment just  6.211547e-25  108.495872         taxes tax   \n",
       "17                  just big  8.777714e-25  107.782856         justified   \n",
       "18                 presently  1.565204e-24  106.590787              cell   \n",
       "19                inevitable  3.184169e-24  105.127956             group   \n",
       "\n",
       "    scores_t1   all_features_t2  scores_t2  \n",
       "0    0.142943       com_upvotes   0.142943  \n",
       "1    0.064636            wonder   0.064636  \n",
       "2    0.060952           massive   0.060952  \n",
       "3    0.059160         caliphate   0.059160  \n",
       "4    0.059070          setbacks   0.059070  \n",
       "5    0.058979               iii   0.058979  \n",
       "6    0.058890          populism   0.058890  \n",
       "7    0.054647           killing   0.054647  \n",
       "8    0.050429  com_avg_pt_depth   0.050429  \n",
       "9    0.039423     want equality   0.039423  \n",
       "10   0.039332          students   0.039332  \n",
       "11   0.039242        think fear   0.039242  \n",
       "12   0.037833          happened   0.037833  \n",
       "13   0.036232            kmeans   0.036232  \n",
       "14   0.029773     steven pinker   0.029773  \n",
       "15   0.029750         terrorize   0.029750  \n",
       "16   0.029157         taxes tax   0.029157  \n",
       "17   0.027013         justified   0.027013  \n",
       "18   0.022511              cell   0.022511  \n",
       "19   0.020010             group   0.020010  "
      ]
     },
     "execution_count": 33,
     "metadata": {},
     "output_type": "execute_result"
    }
   ],
   "source": [
    "F_DF = pd.concat([F_f_DF, F_t1_DF.iloc[:20, :], F_t2_DF.iloc[:20, :]], axis =1)\n",
    "F_DF"
   ]
  },
  {
   "cell_type": "code",
   "execution_count": null,
   "metadata": {
    "collapsed": false
   },
   "outputs": [],
   "source": []
  },
  {
   "cell_type": "markdown",
   "metadata": {},
   "source": [
    "## Feature extraction using Neural nets - mlp"
   ]
  },
  {
   "cell_type": "code",
   "execution_count": null,
   "metadata": {
    "collapsed": false
   },
   "outputs": [],
   "source": [
    "log_clf = linear_model.LogisticRegression()\n",
    "log_clf.fit(X, Y)"
   ]
  },
  {
   "cell_type": "code",
   "execution_count": 42,
   "metadata": {
    "collapsed": false
   },
   "outputs": [
    {
     "ename": "ValueError",
     "evalue": "The underlying estimator MLPClassifier has no `coef_` or `feature_importances_` attribute. Either pass a fitted estimator to SelectFromModel or call fit before calling transform.",
     "output_type": "error",
     "traceback": [
      "\u001b[0;31m---------------------------------------------------------------------------\u001b[0m",
      "\u001b[0;31mValueError\u001b[0m                                Traceback (most recent call last)",
      "\u001b[0;32m<ipython-input-42-00491482345d>\u001b[0m in \u001b[0;36m<module>\u001b[0;34m()\u001b[0m\n\u001b[0;32m----> 1\u001b[0;31m \u001b[0mselected_features_mlp\u001b[0m\u001b[0;34m,\u001b[0m \u001b[0mscores_mlp\u001b[0m \u001b[0;34m=\u001b[0m \u001b[0mextract_model\u001b[0m\u001b[0;34m(\u001b[0m\u001b[0mmlp_clf\u001b[0m\u001b[0;34m)\u001b[0m\u001b[0;34m\u001b[0m\u001b[0m\n\u001b[0m",
      "\u001b[0;32m<ipython-input-41-8271361a0d7f>\u001b[0m in \u001b[0;36mextract_model\u001b[0;34m(clf_fitted)\u001b[0m\n\u001b[1;32m      1\u001b[0m \u001b[0;32mdef\u001b[0m \u001b[0mextract_model\u001b[0m\u001b[0;34m(\u001b[0m\u001b[0mclf_fitted\u001b[0m\u001b[0;34m)\u001b[0m\u001b[0;34m:\u001b[0m\u001b[0;34m\u001b[0m\u001b[0m\n\u001b[0;32m----> 2\u001b[0;31m     \u001b[0mfeature_indices\u001b[0m \u001b[0;34m=\u001b[0m \u001b[0mSelectFromModel\u001b[0m\u001b[0;34m(\u001b[0m\u001b[0mclf_fitted\u001b[0m\u001b[0;34m,\u001b[0m \u001b[0mprefit\u001b[0m\u001b[0;34m=\u001b[0m\u001b[0;32mTrue\u001b[0m\u001b[0;34m)\u001b[0m\u001b[0;34m.\u001b[0m\u001b[0mget_support\u001b[0m\u001b[0;34m(\u001b[0m\u001b[0mindices\u001b[0m\u001b[0;34m=\u001b[0m\u001b[0;32mTrue\u001b[0m\u001b[0;34m)\u001b[0m\u001b[0;34m\u001b[0m\u001b[0m\n\u001b[0m\u001b[1;32m      3\u001b[0m     \u001b[0;32mtry\u001b[0m\u001b[0;34m:\u001b[0m\u001b[0;34m\u001b[0m\u001b[0m\n\u001b[1;32m      4\u001b[0m         \u001b[0mscore\u001b[0m \u001b[0;34m=\u001b[0m \u001b[0mclf_fitted\u001b[0m\u001b[0;34m.\u001b[0m\u001b[0mfeature_importances_\u001b[0m\u001b[0;34m[\u001b[0m\u001b[0mfeature_indices\u001b[0m\u001b[0;34m]\u001b[0m\u001b[0;34m\u001b[0m\u001b[0m\n\u001b[1;32m      5\u001b[0m     \u001b[0;32mexcept\u001b[0m\u001b[0;34m:\u001b[0m\u001b[0;34m\u001b[0m\u001b[0m\n",
      "\u001b[0;32m/Library/Frameworks/Python.framework/Versions/3.5/lib/python3.5/site-packages/sklearn/feature_selection/base.py\u001b[0m in \u001b[0;36mget_support\u001b[0;34m(self, indices)\u001b[0m\n\u001b[1;32m     45\u001b[0m             \u001b[0mvalues\u001b[0m \u001b[0mare\u001b[0m \u001b[0mindices\u001b[0m \u001b[0minto\u001b[0m \u001b[0mthe\u001b[0m \u001b[0minput\u001b[0m \u001b[0mfeature\u001b[0m \u001b[0mvector\u001b[0m\u001b[0;34m.\u001b[0m\u001b[0;34m\u001b[0m\u001b[0m\n\u001b[1;32m     46\u001b[0m         \"\"\"\n\u001b[0;32m---> 47\u001b[0;31m         \u001b[0mmask\u001b[0m \u001b[0;34m=\u001b[0m \u001b[0mself\u001b[0m\u001b[0;34m.\u001b[0m\u001b[0m_get_support_mask\u001b[0m\u001b[0;34m(\u001b[0m\u001b[0;34m)\u001b[0m\u001b[0;34m\u001b[0m\u001b[0m\n\u001b[0m\u001b[1;32m     48\u001b[0m         \u001b[0;32mreturn\u001b[0m \u001b[0mmask\u001b[0m \u001b[0;32mif\u001b[0m \u001b[0;32mnot\u001b[0m \u001b[0mindices\u001b[0m \u001b[0;32melse\u001b[0m \u001b[0mnp\u001b[0m\u001b[0;34m.\u001b[0m\u001b[0mwhere\u001b[0m\u001b[0;34m(\u001b[0m\u001b[0mmask\u001b[0m\u001b[0;34m)\u001b[0m\u001b[0;34m[\u001b[0m\u001b[0;36m0\u001b[0m\u001b[0;34m]\u001b[0m\u001b[0;34m\u001b[0m\u001b[0m\n\u001b[1;32m     49\u001b[0m \u001b[0;34m\u001b[0m\u001b[0m\n",
      "\u001b[0;32m/Library/Frameworks/Python.framework/Versions/3.5/lib/python3.5/site-packages/sklearn/feature_selection/from_model.py\u001b[0m in \u001b[0;36m_get_support_mask\u001b[0;34m(self)\u001b[0m\n\u001b[1;32m    198\u001b[0m                 \u001b[0;34m'Either fit the model before transform or set \"prefit=True\"'\u001b[0m\u001b[0;34m\u001b[0m\u001b[0m\n\u001b[1;32m    199\u001b[0m                 ' while passing the fitted estimator to the constructor.')\n\u001b[0;32m--> 200\u001b[0;31m         \u001b[0mscores\u001b[0m \u001b[0;34m=\u001b[0m \u001b[0m_get_feature_importances\u001b[0m\u001b[0;34m(\u001b[0m\u001b[0mestimator\u001b[0m\u001b[0;34m)\u001b[0m\u001b[0;34m\u001b[0m\u001b[0m\n\u001b[0m\u001b[1;32m    201\u001b[0m         self.threshold_ = _calculate_threshold(estimator, scores,\n\u001b[1;32m    202\u001b[0m                                                self.threshold)\n",
      "\u001b[0;32m/Library/Frameworks/Python.framework/Versions/3.5/lib/python3.5/site-packages/sklearn/feature_selection/from_model.py\u001b[0m in \u001b[0;36m_get_feature_importances\u001b[0;34m(estimator)\u001b[0m\n\u001b[1;32m     29\u001b[0m             \u001b[0;34m\"`feature_importances_` attribute. Either pass a fitted estimator\"\u001b[0m\u001b[0;34m\u001b[0m\u001b[0m\n\u001b[1;32m     30\u001b[0m             \u001b[0;34m\" to SelectFromModel or call fit before calling transform.\"\u001b[0m\u001b[0;34m\u001b[0m\u001b[0m\n\u001b[0;32m---> 31\u001b[0;31m             % estimator.__class__.__name__)\n\u001b[0m\u001b[1;32m     32\u001b[0m \u001b[0;34m\u001b[0m\u001b[0m\n\u001b[1;32m     33\u001b[0m     \u001b[0;32mreturn\u001b[0m \u001b[0mimportances\u001b[0m\u001b[0;34m\u001b[0m\u001b[0m\n",
      "\u001b[0;31mValueError\u001b[0m: The underlying estimator MLPClassifier has no `coef_` or `feature_importances_` attribute. Either pass a fitted estimator to SelectFromModel or call fit before calling transform."
     ]
    }
   ],
   "source": [
    "selected_features_log, scores_log = extract_model(log_clf)\n",
    "selected_features_log.shape"
   ]
  },
  {
   "cell_type": "code",
   "execution_count": null,
   "metadata": {
    "collapsed": false
   },
   "outputs": [],
   "source": []
  },
  {
   "cell_type": "code",
   "execution_count": null,
   "metadata": {
    "collapsed": true
   },
   "outputs": [],
   "source": [
    "scores_log"
   ]
  },
  {
   "cell_type": "code",
   "execution_count": null,
   "metadata": {
    "collapsed": true
   },
   "outputs": [],
   "source": [
    "tf_features_indices_log = selected_features_log[:-5].astype(int)\n",
    "all_features_log = np.array(TFVectorizer.get_feature_names())[tf_features_indices_log].tolist()\n",
    "all_features_log.extend(selected_features_log[-5:])\n",
    "#all_features_t1\n",
    "\n",
    "d = {'all_features_log': all_features_log, 'scores_lo': scores_t2}\n",
    "F_t2_DF = pd.DataFrame(data = d).sort(columns='scores_t2', axis=0, ascending=False).reset_index(drop = True)\n",
    "F_t2_DF.iloc[:20, :]"
   ]
  }
 ],
 "metadata": {
  "kernelspec": {
   "display_name": "Python 3",
   "language": "python",
   "name": "python3"
  },
  "language_info": {
   "codemirror_mode": {
    "name": "ipython",
    "version": 3
   },
   "file_extension": ".py",
   "mimetype": "text/x-python",
   "name": "python",
   "nbconvert_exporter": "python",
   "pygments_lexer": "ipython3",
   "version": "3.5.2"
  }
 },
 "nbformat": 4,
 "nbformat_minor": 2
}

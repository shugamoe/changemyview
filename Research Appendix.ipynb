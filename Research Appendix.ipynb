{
 "cells": [
  {
   "cell_type": "markdown",
   "metadata": {},
   "source": [
    "# Research Appendix\n",
    "## Analyzing /r/changemyview, a subreddit for \"A subreddit for people with an opinion that they accept may be flawed, and who want help in understanding other perspectives on the issue.\"\n",
    "### Julia Zhou and Julian McClellan"
   ]
  },
  {
   "cell_type": "markdown",
   "metadata": {},
   "source": [
    "In the subreddit /r/changemyview, users post submissions of their views, and other users reply to these submissions in an attempt to change these views. Should a user's reply successfully change the view of a submission, then the original poster (OP), the user who originally posted the submission, can award a \"delta\" (∆) to indicate that a reply succesfuly changed their view. Additionally, any other users who found that a reply got them to change their view can also award a ∆.\n",
    "\n",
    "Our analysis explores both submissions in /r/changemyview, and the replies to these submissions. Specifically, we want to:\n",
    "    1. Explore the different topics across the submissions.\n",
    "    2. Characterize the nature of replies.\n",
    "    3. Differentiate between replies that receive deltas and those that do not\n",
    "    4. Attempt to predict whether a reply will receive a delta or not."
   ]
  },
  {
   "cell_type": "markdown",
   "metadata": {},
   "source": [
    "Let's begin with number 1 then, and look at the different topics across the submissions."
   ]
  },
  {
   "cell_type": "code",
   "execution_count": 13,
   "metadata": {
    "collapsed": true
   },
   "outputs": [],
   "source": [
    "clust_df = pd.read_pickle('cmv_cluster_info.pkl')"
   ]
  },
  {
   "cell_type": "code",
   "execution_count": 14,
   "metadata": {
    "collapsed": false
   },
   "outputs": [
    {
     "data": {
      "text/html": [
       "<div>\n",
       "<table border=\"1\" class=\"dataframe\">\n",
       "  <thead>\n",
       "    <tr style=\"text-align: right;\">\n",
       "      <th></th>\n",
       "      <th>kmeans_inter</th>\n",
       "      <th>kmeans_num</th>\n",
       "      <th>proportion</th>\n",
       "    </tr>\n",
       "  </thead>\n",
       "  <tbody>\n",
       "    <tr>\n",
       "      <th>6</th>\n",
       "      <td>don think view change life time edit make beli...</td>\n",
       "      <td>6</td>\n",
       "      <td>0.290012</td>\n",
       "    </tr>\n",
       "    <tr>\n",
       "      <th>2</th>\n",
       "      <td>money work school time don job day think feel ...</td>\n",
       "      <td>2</td>\n",
       "      <td>0.137184</td>\n",
       "    </tr>\n",
       "    <tr>\n",
       "      <th>14</th>\n",
       "      <td>black white racism culture race believe ideas ...</td>\n",
       "      <td>14</td>\n",
       "      <td>0.064982</td>\n",
       "    </tr>\n",
       "    <tr>\n",
       "      <th>13</th>\n",
       "      <td>film funny think movie characters movies joke ...</td>\n",
       "      <td>13</td>\n",
       "      <td>0.063779</td>\n",
       "    </tr>\n",
       "    <tr>\n",
       "      <th>7</th>\n",
       "      <td>government law religion right human religious ...</td>\n",
       "      <td>7</td>\n",
       "      <td>0.062575</td>\n",
       "    </tr>\n",
       "    <tr>\n",
       "      <th>3</th>\n",
       "      <td>reddit posts meat dog downvote comments dogs e...</td>\n",
       "      <td>3</td>\n",
       "      <td>0.056558</td>\n",
       "    </tr>\n",
       "    <tr>\n",
       "      <th>10</th>\n",
       "      <td>men women woman man gender male female physica...</td>\n",
       "      <td>10</td>\n",
       "      <td>0.051745</td>\n",
       "    </tr>\n",
       "    <tr>\n",
       "      <th>5</th>\n",
       "      <td>child children abortion parents woman kid fetu...</td>\n",
       "      <td>5</td>\n",
       "      <td>0.045728</td>\n",
       "    </tr>\n",
       "    <tr>\n",
       "      <th>1</th>\n",
       "      <td>rape police crime crimes victims think assault...</td>\n",
       "      <td>1</td>\n",
       "      <td>0.042118</td>\n",
       "    </tr>\n",
       "    <tr>\n",
       "      <th>4</th>\n",
       "      <td>power word words use understand earth using wo...</td>\n",
       "      <td>4</td>\n",
       "      <td>0.042118</td>\n",
       "    </tr>\n",
       "    <tr>\n",
       "      <th>8</th>\n",
       "      <td>vote party voting election parties votes candi...</td>\n",
       "      <td>8</td>\n",
       "      <td>0.034898</td>\n",
       "    </tr>\n",
       "    <tr>\n",
       "      <th>9</th>\n",
       "      <td>trump hillary sanders bernie clinton president...</td>\n",
       "      <td>9</td>\n",
       "      <td>0.033694</td>\n",
       "    </tr>\n",
       "    <tr>\n",
       "      <th>12</th>\n",
       "      <td>sex community gender gay sexual don believe at...</td>\n",
       "      <td>12</td>\n",
       "      <td>0.028881</td>\n",
       "    </tr>\n",
       "    <tr>\n",
       "      <th>11</th>\n",
       "      <td>drink alcohol drinking drunk smoking age drug ...</td>\n",
       "      <td>11</td>\n",
       "      <td>0.026474</td>\n",
       "    </tr>\n",
       "    <tr>\n",
       "      <th>0</th>\n",
       "      <td>god religious bible christian belief believe r...</td>\n",
       "      <td>0</td>\n",
       "      <td>0.019254</td>\n",
       "    </tr>\n",
       "  </tbody>\n",
       "</table>\n",
       "</div>"
      ],
      "text/plain": [
       "                                         kmeans_inter  kmeans_num  proportion\n",
       "6   don think view change life time edit make beli...           6    0.290012\n",
       "2   money work school time don job day think feel ...           2    0.137184\n",
       "14  black white racism culture race believe ideas ...          14    0.064982\n",
       "13  film funny think movie characters movies joke ...          13    0.063779\n",
       "7   government law religion right human religious ...           7    0.062575\n",
       "3   reddit posts meat dog downvote comments dogs e...           3    0.056558\n",
       "10  men women woman man gender male female physica...          10    0.051745\n",
       "5   child children abortion parents woman kid fetu...           5    0.045728\n",
       "1   rape police crime crimes victims think assault...           1    0.042118\n",
       "4   power word words use understand earth using wo...           4    0.042118\n",
       "8   vote party voting election parties votes candi...           8    0.034898\n",
       "9   trump hillary sanders bernie clinton president...           9    0.033694\n",
       "12  sex community gender gay sexual don believe at...          12    0.028881\n",
       "11  drink alcohol drinking drunk smoking age drug ...          11    0.026474\n",
       "0   god religious bible christian belief believe r...           0    0.019254"
      ]
     },
     "execution_count": 14,
     "metadata": {},
     "output_type": "execute_result"
    }
   ],
   "source": [
    "clust_df"
   ]
  },
  {
   "cell_type": "code",
   "execution_count": 2,
   "metadata": {
    "collapsed": false
   },
   "outputs": [
    {
     "name": "stderr",
     "output_type": "stream",
     "text": [
      "/home/jmcclellan/anaconda3/lib/python3.6/site-packages/sklearn/cross_validation.py:44: DeprecationWarning: This module was deprecated in version 0.18 in favor of the model_selection module into which all the refactored classes and functions are moved. Also note that the interface of the new CV iterators are different from that of this module. This module will be removed in 0.20.\n",
      "  \"This module will be removed in 0.20.\", DeprecationWarning)\n"
     ]
    }
   ],
   "source": [
    "import sklearn\n",
    "import sklearn.feature_extraction.text\n",
    "import sklearn.decomposition\n",
    "from sklearn import preprocessing, linear_model\n",
    "from sklearn.metrics import confusion_matrix, accuracy_score, precision_score, recall_score\n",
    "from sklearn.datasets import fetch_20newsgroups, make_blobs\n",
    "from sklearn.feature_extraction.text import TfidfVectorizer\n",
    "from sklearn.naive_bayes import MultinomialNB \n",
    "from sklearn.pipeline import make_pipeline\n",
    "from sklearn.cross_validation import train_test_split\n",
    "from sklearn.tree import DecisionTreeRegressor, DecisionTreeClassifier\n",
    "from sklearn.ensemble import BaggingClassifier, RandomForestRegressor\n",
    "from sklearn.neural_network import MLPClassifier\n",
    "from sklearn import neighbors\n",
    "import pandas as pd\n",
    "\n",
    "import nltk \n",
    "import numpy as np \n",
    "import matplotlib.pyplot as plt #Plots\n",
    "from matplotlib.colors import ListedColormap\n",
    "import seaborn #Makes plots look nice, also heatmaps\n",
    "import scipy as sp #for interp\n",
    "\n",
    "%matplotlib inline\n",
    "\n",
    "#These are from the standard library\n",
    "import collections\n",
    "import os\n",
    "import os.path\n",
    "import random\n",
    "import re\n",
    "import glob\n",
    "import pandas\n",
    "import requests\n",
    "import json\n",
    "import math"
   ]
  },
  {
   "cell_type": "code",
   "execution_count": 5,
   "metadata": {
    "collapsed": false
   },
   "outputs": [],
   "source": [
    "cmv_df = pd.read_pickle('cmv_full_features.pkl')"
   ]
  }
 ],
 "metadata": {
  "kernelspec": {
   "display_name": "Python 3",
   "language": "python",
   "name": "python3"
  },
  "language_info": {
   "codemirror_mode": {
    "name": "ipython",
    "version": 3
   },
   "file_extension": ".py",
   "mimetype": "text/x-python",
   "name": "python",
   "nbconvert_exporter": "python",
   "pygments_lexer": "ipython3",
   "version": "3.6.0"
  }
 },
 "nbformat": 4,
 "nbformat_minor": 2
}
